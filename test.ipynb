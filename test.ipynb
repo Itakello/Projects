{
 "cells": [
  {
   "cell_type": "code",
   "execution_count": 1,
   "metadata": {},
   "outputs": [],
   "source": [
    "import pandas as pd\n",
    "\n",
    "def convert_number(num):\n",
    "    # Convert the number to a string\n",
    "    num_str = str(num)\n",
    "    # Check the length of the string\n",
    "    length = len(num_str)\n",
    "    # If the length is less than 6, add zeros to the left\n",
    "    if length < 6:\n",
    "        num_str = \"0\" * (6 - length) + num_str\n",
    "    # Return the string\n",
    "    return num_str\n",
    "\n",
    "def import_csv_as_dict(csv_file):\n",
    "    df = pd.read_csv(csv_file)\n",
    "    dataset_info = {}\n",
    "    for i, row in df.iterrows():\n",
    "        filename = convert_number(row['filename'])\n",
    "        closed_eyes = row['closed_eyes']\n",
    "        lefteye_x = row['lefteye_x'] - 10\n",
    "        lefteye_y = row['lefteye_y'] - 15\n",
    "        righteye_x = row['righteye_x'] + 10\n",
    "        righteye_y = row['righteye_y'] + 10\n",
    "        dataset_info[filename] = closed_eyes#{'closed_eyes': closed_eyes, 'lefteye_x': lefteye_x, 'lefteye_y': lefteye_y, 'righteye_x': righteye_x, 'righteye_y': righteye_y}\n",
    "    return dataset_info\n",
    "\n",
    "dataset_info = import_csv_as_dict('dataset_info.csv')"
   ]
  },
  {
   "cell_type": "code",
   "execution_count": 3,
   "metadata": {},
   "outputs": [
    {
     "name": "stderr",
     "output_type": "stream",
     "text": [
      "Duplicating without eyes: 100%|██████████| 12263/12263 [00:14<00:00, 835.94it/s] \n"
     ]
    }
   ],
   "source": [
    "from tqdm import tqdm\n",
    "import cv2\n",
    "import numpy as np\n",
    "import os\n",
    "import glob\n",
    "import shutil\n",
    "\n",
    "def save_without_eyes(dataset_info:dict, path_to:str) -> None:\n",
    "\tjpg_files = glob.glob(\"dataset\\\\raw\\\\*.jpg\")\n",
    "\tpath_to_open = \"dataset\\\\open_eyes\"\n",
    "\tpath_to_closed = \"dataset\\\\closed_eyes\"\n",
    "\tfor jpg_file in tqdm(jpg_files, desc=\"Duplicating without eyes\"):\n",
    "\t\tfilename = os.path.basename(jpg_file).split(\".\")[0]\n",
    "\t\tif dataset_info[filename] == 0:\n",
    "\t\t\tshutil.move(jpg_file, path_to_open)\n",
    "\t\telse:\n",
    "\t\t\tshutil.move(jpg_file, path_to_closed)\n",
    "\t\t\"\"\"filename = os.path.basename(jpg_file)\n",
    "\t\timg_info = dataset_info[filename.split(\".\")[0]]\n",
    "  \n",
    "\t\toutput_image_path = os.path.join(path_to, filename)\n",
    "\t\t\n",
    "\t\t# Load the image\n",
    "\t\timage = cv2.imread(jpg_file)\n",
    "\t\t\n",
    "\t\t# Create a black mask with the same size as the image\n",
    "\t\tmask = np.zeros(image.shape, dtype=np.uint8)\n",
    "\t\t\n",
    "\t\t# Draw a white rectangle on the mask to cover the eyes region\n",
    "\t\tcv2.rectangle(mask, (img_info['lefteye_x'], img_info['lefteye_y']), (img_info['righteye_x'], img_info['righteye_y']), (255, 255, 255), -1)\n",
    "\t\t\n",
    "\t\t# Multiply the mask with the image to apply the mask\n",
    "\t\timage = cv2.subtract(image, mask)\n",
    "\t\t\n",
    "\t\t# Save the modified image\n",
    "\t\tcv2.imwrite(output_image_path, image)\"\"\"\n",
    "\n",
    "save_without_eyes(dataset_info, path_to='dataset\\\\no_eyes\\\\')"
   ]
  },
  {
   "cell_type": "code",
   "execution_count": 5,
   "metadata": {},
   "outputs": [
    {
     "data": {
      "text/plain": [
       "1"
      ]
     },
     "execution_count": 5,
     "metadata": {},
     "output_type": "execute_result"
    }
   ],
   "source": [
    "dataset_info['000003']"
   ]
  },
  {
   "cell_type": "code",
   "execution_count": null,
   "metadata": {},
   "outputs": [],
   "source": []
  }
 ],
 "metadata": {
  "kernelspec": {
   "display_name": "siv_project",
   "language": "python",
   "name": "python3"
  },
  "language_info": {
   "codemirror_mode": {
    "name": "ipython",
    "version": 3
   },
   "file_extension": ".py",
   "mimetype": "text/x-python",
   "name": "python",
   "nbconvert_exporter": "python",
   "pygments_lexer": "ipython3",
   "version": "3.10.9"
  },
  "orig_nbformat": 4,
  "vscode": {
   "interpreter": {
    "hash": "cf758b4e31a264a7d350682862ef5f8d75991173714a052f5e5930abba6bdf81"
   }
  }
 },
 "nbformat": 4,
 "nbformat_minor": 2
}
